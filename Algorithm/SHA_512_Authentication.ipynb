{
  "nbformat": 4,
  "nbformat_minor": 0,
  "metadata": {
    "colab": {
      "provenance": []
    },
    "kernelspec": {
      "name": "python3",
      "display_name": "Python 3"
    },
    "language_info": {
      "name": "python"
    }
  },
  "cells": [
    {
      "cell_type": "code",
      "execution_count": 4,
      "metadata": {
        "colab": {
          "base_uri": "https://localhost:8080/"
        },
        "id": "cKa1r5OJXQSp",
        "outputId": "7d481890-9efb-4fe0-9605-4b810112470c"
      },
      "outputs": [
        {
          "output_type": "stream",
          "name": "stdout",
          "text": [
            "Enter text to hash: azmir\n",
            "SHA-512 Hash: ba42f325bc2b47a37bba6d4eec183da8768eb4b5bb66d95bce80e0ea0181e1385b90c2f3870037e97acb604e86919d39ddd4c60f82014910a059c6331fbb475d\n"
          ]
        }
      ],
      "source": [
        "import hashlib\n",
        "\n",
        "def sha512_hash(text):\n",
        "    \"\"\"Generate SHA-512 hash of the given text.\"\"\"\n",
        "    sha512 = hashlib.sha512()\n",
        "    sha512.update(text.encode('utf-8'))\n",
        "    return sha512.hexdigest()\n",
        "\n",
        "# Example usage\n",
        "if __name__ == \"__main__\":\n",
        "    text = input(\"Enter text to hash: \")\n",
        "    hashed_text = sha512_hash(text)\n",
        "    print(\"SHA-512 Hash:\", hashed_text)\n"
      ]
    }
  ]
}