{
  "nbformat": 4,
  "nbformat_minor": 0,
  "metadata": {
    "colab": {
      "provenance": []
    },
    "kernelspec": {
      "name": "python3",
      "display_name": "Python 3"
    },
    "language_info": {
      "name": "python"
    }
  },
  "cells": [
    {
      "cell_type": "code",
      "execution_count": 1,
      "metadata": {
        "colab": {
          "base_uri": "https://localhost:8080/"
        },
        "id": "AqKajutFUVZQ",
        "outputId": "2afa8068-d38b-4db1-9ad5-e856eee6f04e"
      },
      "outputs": [
        {
          "output_type": "stream",
          "name": "stdout",
          "text": [
            "Public Key: (197, 2747)\n",
            "Private Key: (2573, 2747)\n",
            "Original Message: Hello\n",
            "Encrypted Message: [228, 270, 2564, 2564, 1305]\n",
            "Decrypted Message: Hello\n"
          ]
        }
      ],
      "source": [
        "import random\n",
        "from sympy import isprime\n",
        "\n",
        "\n",
        "def generate_large_prime(bits=8):\n",
        "    while True:\n",
        "        num = random.getrandbits(bits)\n",
        "        if isprime(num):\n",
        "            return num\n",
        "\n",
        "\n",
        "def gcd(a, b):\n",
        "    while b:\n",
        "        a, b = b, a % b\n",
        "    return a\n",
        "\n",
        "def mod_inverse(e, phi):\n",
        "    for d in range(2, phi):\n",
        "        if (d * e) % phi == 1:\n",
        "            return d\n",
        "    return None\n",
        "\n",
        "# RSA Key Generation\n",
        "def generate_rsa_keys():\n",
        "    p = generate_large_prime()\n",
        "    q = generate_large_prime()\n",
        "    while p == q:\n",
        "        q = generate_large_prime()\n",
        "\n",
        "    n = p * q\n",
        "    phi = (p - 1) * (q - 1)\n",
        "\n",
        "\n",
        "    e = random.randrange(2, phi)\n",
        "    while gcd(e, phi) != 1:\n",
        "        e = random.randrange(2, phi)\n",
        "\n",
        "\n",
        "    d = mod_inverse(e, phi)\n",
        "\n",
        "    return (e, n), (d, n)  # Public Key (e, n) , Private Key (d, n)\n",
        "\n",
        "# C = (M^e) mod n\n",
        "def encrypt(plaintext, public_key):\n",
        "    e, n = public_key\n",
        "    cipher_text = [pow(ord(char), e, n) for char in plaintext]\n",
        "    return cipher_text\n",
        "\n",
        "# M = (C^d) mod n\n",
        "def decrypt(cipher_text, private_key):\n",
        "    d, n = private_key\n",
        "    decrypted_text = ''.join(chr(pow(char, d, n)) for char in cipher_text)\n",
        "    return decrypted_text\n",
        "\n",
        "#RSA Execution\n",
        "public_key, private_key = generate_rsa_keys()\n",
        "print(f\"Public Key: {public_key}\")\n",
        "print(f\"Private Key: {private_key}\")\n",
        "\n",
        "\n",
        "message = \"Hello\"\n",
        "encrypted_msg = encrypt(message, public_key)\n",
        "decrypted_msg = decrypt(encrypted_msg, private_key)\n",
        "\n",
        "print(f\"Original Message: {message}\")\n",
        "print(f\"Encrypted Message: {encrypted_msg}\")\n",
        "print(f\"Decrypted Message: {decrypted_msg}\")\n"
      ]
    }
  ]
}