{
  "nbformat": 4,
  "nbformat_minor": 0,
  "metadata": {
    "colab": {
      "provenance": []
    },
    "kernelspec": {
      "name": "python3",
      "display_name": "Python 3"
    },
    "language_info": {
      "name": "python"
    }
  },
  "cells": [
    {
      "cell_type": "code",
      "execution_count": 1,
      "metadata": {
        "colab": {
          "base_uri": "https://localhost:8080/"
        },
        "id": "xhCkN2HFVrz4",
        "outputId": "06b64471-277b-4108-9010-968aacf2ed6b"
      },
      "outputs": [
        {
          "output_type": "stream",
          "name": "stdout",
          "text": [
            "Enter a number: 78\n",
            "Prime factors: [2, 3, 13]\n"
          ]
        }
      ],
      "source": [
        "import math\n",
        "\n",
        "def prime_factors(n):\n",
        "    factors = []\n",
        "\n",
        "    # Count the number of times 2 divides n\n",
        "    while n % 2 == 0:\n",
        "        factors.append(2)\n",
        "        n //= 2\n",
        "\n",
        "    # Check for odd factors from 3 to sqrt(n)\n",
        "    for i in range(3, int(math.sqrt(n)) + 1, 2):\n",
        "        while n % i == 0:\n",
        "            factors.append(i)\n",
        "            n //= i\n",
        "\n",
        "    # If n is still greater than 2, then it's a prime number\n",
        "    if n > 2:\n",
        "        factors.append(n)\n",
        "\n",
        "    return factors\n",
        "\n",
        "# Example usage\n",
        "num = int(input(\"Enter a number: \"))\n",
        "print(\"Prime factors:\", prime_factors(num))"
      ]
    }
  ]
}