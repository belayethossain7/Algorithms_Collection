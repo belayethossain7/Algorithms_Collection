{
  "nbformat": 4,
  "nbformat_minor": 0,
  "metadata": {
    "colab": {
      "provenance": []
    },
    "kernelspec": {
      "name": "python3",
      "display_name": "Python 3"
    },
    "language_info": {
      "name": "python"
    }
  },
  "cells": [
    {
      "cell_type": "code",
      "execution_count": 1,
      "metadata": {
        "colab": {
          "base_uri": "https://localhost:8080/"
        },
        "id": "yi-suHRXShR0",
        "outputId": "b12d68f2-82f2-4d6f-a8ca-a2f2a1f60824"
      },
      "outputs": [
        {
          "output_type": "stream",
          "name": "stdout",
          "text": [
            "Shortest distances from source 'A':\n",
            "Node A: Distance 0\n",
            "Node B: Distance 2\n",
            "Node C: Distance 1\n",
            "Node D: Distance 4\n"
          ]
        }
      ],
      "source": [
        "import heapq\n",
        "\n",
        "def dijkstra(graph, source):\n",
        "    # Initializing distances dictionary\n",
        "    distances = {node: float('inf') for node in graph}\n",
        "    distances[source] = 0  # Distance to source is 0\n",
        "\n",
        "    # Priority Queue (Min-Heap)\n",
        "    pq = [(0, source)]  # (distance, node)\n",
        "\n",
        "    while pq:\n",
        "        current_distance, current_node = heapq.heappop(pq)\n",
        "\n",
        "        # If current_distance is already greater, skip it\n",
        "        if current_distance > distances[current_node]:\n",
        "            continue\n",
        "\n",
        "        # Check neighbors of the current node\n",
        "        for neighbor, weight in graph[current_node].items():\n",
        "            distance = current_distance + weight  # Calculate new distance\n",
        "\n",
        "            # If new distance is shorter, update and push to PQ\n",
        "            if distance < distances[neighbor]:\n",
        "                distances[neighbor] = distance\n",
        "                heapq.heappush(pq, (distance, neighbor))\n",
        "\n",
        "    return distances\n",
        "\n",
        "# Graph representation using adjacency list\n",
        "graph = {\n",
        "    'A': {'B': 2, 'C': 1},\n",
        "    'B': {'A': 2, 'C': 4, 'D': 7},\n",
        "    'C': {'A': 1, 'B': 4, 'D': 3},\n",
        "    'D': {'B': 7, 'C': 3}\n",
        "}\n",
        "\n",
        "# Find shortest paths from source 'A'\n",
        "shortest_paths = dijkstra(graph, 'A')\n",
        "\n",
        "# Print the results\n",
        "print(\"Shortest distances from source 'A':\")\n",
        "for node, distance in shortest_paths.items():\n",
        "    print(f\"Node {node}: Distance {distance}\")\n"
      ]
    }
  ]
}